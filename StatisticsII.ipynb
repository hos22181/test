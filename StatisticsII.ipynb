{
 "cells": [
  {
   "cell_type": "markdown",
   "id": "35401116-8724-4b48-89c8-7726416a75bc",
   "metadata": {},
   "source": [
    "# Data and Sampling Distributions\n",
    "\n",
    "### Sample\n",
    "- A subset from a larger data set.\n",
    "###  Population\n",
    "- The larger data set or idea of a data set.\n",
    "###  $N(n)$ \n",
    "- The size of the population (sample).\n",
    "###  Random sampling\n",
    "- Drawing elements into a sample at random.\n",
    "###  Simple random sample\n",
    "- The sample that results from random sampling without stratifying the population.\n",
    "### Bias\n",
    "- Systematic error.\n",
    "### Sample bias\n",
    "- A sample that misrepresents the population."
   ]
  },
  {
   "attachments": {
    "8e0eabfe-0637-419b-838f-6d13d3d58bdc.png": {
     "image/png": "[encoded data removed]"
    },
    "a70a647d-09f6-43d8-9b21-c06c10150e95.png": {
     "image/png": "[encoded data removed]"
    }
   },
   "cell_type": "markdown",
   "id": "aacb6405-b6e8-466f-9799-e5c5306b15be",
   "metadata": {},
   "source": [
    "![grafik.png](attachment:8e0eabfe-0637-419b-838f-6d13d3d58bdc.png)   ![grafik.png](attachment:a70a647d-09f6-43d8-9b21-c06c10150e95.png)"
   ]
  },
  {
   "cell_type": "markdown",
   "id": "e4eb5353-b1f9-4da1-ad79-018e18501d65",
   "metadata": {
    "jp-MarkdownHeadingCollapsed": true,
    "tags": []
   },
   "source": [
    "###  Sample statistic\n",
    "A metric calculated for a sample of data drawn from a larger population.\n",
    "###  Data distribution\n",
    "The frequency distribution of individual values in a data set.\n",
    "###  Sampling distribution\n",
    "The frequency distribution of a sample statistic over many samples or resamples.\n",
    "###  Central limit theorem\n",
    "The tendency of the sampling distribution to take on a normal shape as sample\n",
    "size rises.\n",
    "###  Standard error\n",
    "The variability (standard deviation) of a sample statistic over many samples (not\n",
    "to be confused with standard deviation, which by itself, refers to variability of\n",
    "individual data values). That means we get an estimate of the **distance of the sample mean from the population mean**, and this helps in gauging the accuracy of an estimate. "
   ]
  },
  {
   "cell_type": "markdown",
   "id": "a62aa9b6-6ad6-4b85-afc6-98bac2b56660",
   "metadata": {
    "tags": []
   },
   "source": [
    "### Drawing of Random Samples "
   ]
  },
  {
   "cell_type": "code",
   "execution_count": null,
   "id": "b0cb50ff-4373-4b2a-b8b3-40c49ae1047c",
   "metadata": {
    "tags": []
   },
   "outputs": [],
   "source": [
    "# Draw 4 random samples of Dataframe for attribute Age \n",
    "import pandas as pd\n",
    "import numpy as np\n",
    "import matplotlib.pylab as plt\n",
    "import matplotlib.colors as mcolors\n",
    "plt.style.use('ggplot')\n",
    "\n",
    "data = pd.read_csv(\"c:/.../bodyfat.csv\");\n",
    "atb = \"Height\"\n",
    "n = 50\n",
    "\n",
    "\n",
    "samp1 = data[atb].sample(n,replace=True)\n",
    "samp2 = data[atb].sample(n,replace=True)\n",
    "samp3 = data[atb].sample(n,replace=True)\n",
    "samp4 = data[atb].sample(n,replace=True)\n",
    "\n",
    "#print(type(age1)) -> series \n",
    "\n",
    "# Coverting Series to Dataframes\n",
    "samp1 = pd.Series(samp1.values,name=atb+str(1)).to_frame()\n",
    "samp2 = pd.Series(samp2.values,name=atb+str(2)).to_frame()\n",
    "samp3 = pd.Series(samp3.values,name=atb+str(3)).to_frame()\n",
    "samp4 = pd.Series(samp4.values,name=atb+str(4)).to_frame()\n",
    "\n",
    "\n",
    "dfage = pd.concat([samp1,samp2,samp3,samp4],axis=1)\n",
    "#dfage.describe()\n",
    "\n",
    "import matplotlib.pyplot as plt\n",
    "plt.style.use('ggplot')\n",
    "fig,ax = plt.subplots(figsize=(9,6)) \n",
    "ax,props = dfage.plot.box(patch_artist=True, return_type='both', ax=ax)"
   ]
  },
  {
   "cell_type": "markdown",
   "id": "6530b716-16cb-4979-b365-196ed3ad1f2b",
   "metadata": {
    "tags": []
   },
   "source": [
    "### Central Limit Theorem\n"
   ]
  },
  {
   "cell_type": "code",
   "execution_count": null,
   "id": "f8b36718-2425-46df-a00c-3c0cd24be51d",
   "metadata": {
    "tags": []
   },
   "outputs": [],
   "source": [
    "loans_income = pd.read_csv(\"c:/home/DSAI/datasets/loans_income.csv\");\n",
    "\n",
    "n = 10  #Sample size\n",
    "sample_data = loans_income.sample(n,replace=True)\n",
    "\n",
    "N = 10000  #Number of \"Experiments\"\n",
    "sample_data_m = loans_income.sample(N).mean()\n",
    "sample_mean_05 = [loans_income.sample(5).mean() for _ in range(N)]\n",
    "sample_mean_05 = pd.DataFrame(sample_mean_05)\n",
    "sample_mean_05 = sample_mean_05.rename( columns={\"x\": \"sm05\" } )\n",
    "sample_mean_20 = [loans_income.sample(20).mean() for _ in range(N)]\n",
    "sample_mean_20 = pd.DataFrame(sample_mean_20)\n",
    "sample_mean_20 = sample_mean_20.rename( columns={\"x\": \"sm20\" } )\n",
    "sample_mean_100 = [loans_income.sample(100).mean() for _ in range(N)]\n",
    "sample_mean_100 = pd.DataFrame(sample_mean_100)\n",
    "sample_mean_100 = sample_mean_100.rename(columns={\"x\": \"sm100\" } )\n",
    "\n",
    "results = pd.concat([sample_mean_05, sample_mean_20,sample_mean_100],axis=1)\n",
    "results.head()\n",
    "loans_income.hist(bins=30,color=\"goldenrod\",ec=\"white\")\n",
    "sample_data.hist(bins=30,ec=\"white\")\n",
    "results[[\"sm05\", \"sm20\",\"sm100\"]].hist(bins=20,ec=\"white\")\n",
    "plt.show()"
   ]
  },
  {
   "cell_type": "markdown",
   "id": "420d236d-2de6-4505-9a4e-70e3261519f1",
   "metadata": {},
   "source": [
    "## Bootstrapping "
   ]
  },
  {
   "cell_type": "markdown",
   "id": "65378a51-6f83-41d3-8b5c-eb354afd515b",
   "metadata": {
    "jp-MarkdownHeadingCollapsed": true,
    "tags": []
   },
   "source": [
    "- is an easy and effective way to estimate the **sampling distribution of a statistic**, or of model parameters, by drawing additional samples, with replacement, from the sample itself and recalculate the statistic or model for each resample."
   ]
  },
  {
   "cell_type": "markdown",
   "id": "3d532dd1-53a2-4ac9-9d8b-9df5261d544c",
   "metadata": {},
   "source": [
    "### Confidence Intervals\n",
    "- A confidence interval is a range of values that a parameter is expected to fall within\n",
    "### Confidence level\n",
    "- The percentage of confidence intervals, constructed in the same way from the same population, that are expected to contain the statistic of interest.\n",
    "### Interval endpoints\n",
    "- The top and bottom of the confidence interval."
   ]
  },
  {
   "cell_type": "markdown",
   "id": "7897f159-575d-4c85-86d4-28ed771547ea",
   "metadata": {},
   "source": [
    "### Bootstrap Confidence Intervals\n",
    "\n",
    "- Calculating confidence intervals with the bootstrap involves two steps:\n",
    " - Calculate a Population of Statistics\n",
    " - Calculate Confidence Intervals\n",
    "\t\n",
    "#### 1. Calculate a Population of Statistics\n",
    "``` \n",
    "statistics = []\n",
    "for i in bootstraps:\n",
    " sample = select_sample_with_replacement(data)\n",
    " stat = calculate_statistic(sample)\n",
    " statistics.append(stat)\n",
    "``` \n",
    "#### 2. Calculate Confidence Interval \n",
    "```\n",
    "ordered = sort(statistics)\n",
    "lower = percentile(ordered, (1-alpha)/2)\n",
    "upper = percentile(ordered, alpha+((1-alpha)/2))\n",
    "```\n"
   ]
  },
  {
   "cell_type": "code",
   "execution_count": null,
   "id": "1d56d743-03c9-4b2f-8279-120411e00e51",
   "metadata": {
    "tags": []
   },
   "outputs": [],
   "source": [
    "\n",
    "# check: Loans income population data and a normal \n",
    "# distributed simulation of the original data\n",
    "\n",
    "lim = loans_income.mean()  # mean and std of true population\n",
    "listd = loans_income.std()\n",
    "\n",
    "loan_sim = np.random.normal(lim,listd,50000) \n",
    "loan_sim = pd.DataFrame(loan_sim, columns=[\"loan_sim\"])\n",
    "\n",
    "# Check, if loan_income data have a normal distribution  \n",
    "dfloan = pd.concat([loans_income,loan_sim], axis=1)\n",
    "\n",
    "dfloan.plot.hist(bins=15,ec=\"white\", alpha=0.6)\n",
    "plt.legend()\n",
    "plt.show()"
   ]
  },
  {
   "cell_type": "code",
   "execution_count": null,
   "id": "0a47bd64-c95a-4e7b-ad21-0689a9695d17",
   "metadata": {
    "tags": []
   },
   "outputs": [],
   "source": [
    "print('Bootstrap Statistics:')\n",
    "\n",
    "print(f'original: {loans_income.mean().to_string()}')\n",
    "print(f'bootstrap: {dfbootresults.mean().to_string()}')\n",
    "print(f'bias: {dfbootresults[\"loans_bootstrap\"].mean()- loans_income[\"loans_income\"].mean()}')\n",
    "print(f'std.error: {dfbootresults.std().to_string()}')"
   ]
  },
  {
   "cell_type": "code",
   "execution_count": null,
   "id": "8e4e474b-2f69-466d-9b52-d7552cea9274",
   "metadata": {
    "tags": []
   },
   "outputs": [],
   "source": [
    "ul = np.percentile(results,2.5)\n",
    "ol = np.percentile(results,97.5) \n",
    "print(\"Upper and Lower Interval endpoint: \", ul,ol)\n",
    "dfresults.hist(bins=20,ec=\"white\",color=\"darkseagreen\")\n",
    "plt.axvline(ul, color='olive', linestyle='dashed', linewidth=1)\n",
    "plt.axvline(ol, color='olive', linestyle='dashed', linewidth=1)\n",
    "plt.title(\"Confidence Intervals of Mean for Loan Income Data\",fontsize=10)\n",
    "plt.show()"
   ]
  },
  {
   "cell_type": "markdown",
   "id": "10648dd9-7419-4706-97a9-c55b22d4bb3f",
   "metadata": {},
   "source": [
    "#### Example : Calculate Bodyfat Confidence intervall with Bootstrapping"
   ]
  },
  {
   "cell_type": "code",
   "execution_count": null,
   "id": "f5910706-893f-4134-953d-e801514cf79c",
   "metadata": {
    "tags": []
   },
   "outputs": [],
   "source": [
    "def bootbody(df): \n",
    "\n",
    "    bootresults = []\n",
    "    N = 100; n= 50\n",
    "    for nrepeat in range(N):  \n",
    "        sample = df.sample(n,replace=True)\n",
    "        bootresults.append(sample.mean())\n",
    "        #bootresults.append(sample.median())\n",
    "        #bootresults.append(sample.var())\n",
    "        \n",
    "        #bootresults.append(sample.std())\n",
    "    dfbootresults = pd.Series(bootresults)\n",
    "    confidence_interval = list(dfbootresults.quantile([0.05, 0.95]))\n",
    "\n",
    "    dfbootresults.hist(bins=10,color = \"red\",ec=\"white\",alpha=0.9, label ='Income')\n",
    "\n",
    "    for x in confidence_interval:\n",
    "      plt.plot([x, x], [0, 30], color='black')\n",
    "      plt.text(x, 30, s = f'{x:.2f}', horizontalalignment='center', verticalalignment='center')\n",
    "        \n",
    "    plt.text(sum(confidence_interval) / 2, 30, '90% interval', horizontalalignment='center', verticalalignment='center')\n",
    "    plt.show()\n",
    "    \n",
    "    return 1;\n"
   ]
  },
  {
   "cell_type": "markdown",
   "id": "ab5dd3ef-db39-4fcf-95fa-0b5a9de512cc",
   "metadata": {},
   "source": [
    "## Probability Distributions\n",
    "\n",
    "### see : https://docs.scipy.org/doc/scipy/reference/stats.html#discrete-distributions\n",
    "\n",
    "## Continuous distributions\n",
    "\n",
    "##### Normal Distribution\n",
    "$ f(x) = \\frac{\\exp(-x^2/2)}{\\sqrt{2\\pi}} $\n",
    "\n",
    "##### Exponential Distribution\n",
    "$f(x) = \\exp(-x)$\n",
    "\n",
    "##### Weibull Distribution\n",
    "$f(x, c) = \\lambda \\cdot c \\cdot (\\lambda \\cdot c x^{c-1} )\\exp(- \\lambda x^c)$ Parameter $\\ c \\in R^+$, often Scale factor $\\lambda = 1$\n",
    "\n",
    "##### Lognormal Distribution\n",
    "$f(x, s) = \\frac{1}{s x \\sqrt{2\\pi}}\n",
    "          \\exp\\left(-\\frac{\\log^2(x)}{2s^2}\\right)$ s $\\ldots$ shape parameter\n",
    "\n",
    "#### Important functions\n",
    "- $pdf(x, loc=0, scale=1)$ Probability density function.  Standard-Normal Distribution mean = 0 , std = 1\n",
    "- $logpdf(x, loc=0, scale=1)$ Log of the probability density function.\n",
    "- $cdf(x, loc=0, scale=1)$ Cumulative distribution function.\n",
    "- $ppf(q, loc=0, scale=1)$ Percent point function (inverse of cdf — percentiles).\n",
    "- $stats(loc=0, scale=1, moments=’mv’)$ Mean(‘m’), variance(‘v’), skew(‘s’), and/or kurtosis(‘k’).\n",
    "- $rvs(loc=0, scale=1, size=1, random_state=None)$ Random variates.\n",
    "\n",
    "## Discrete distributions\n",
    "\n",
    "##### Binomial Distribution\n",
    "$f(k) = \\binom{n}{k} p^k (1-p)^{n-k}$\n",
    "\n",
    "#### Important functions\n",
    "- $pmf(k, n, p, loc=0)$ Probability mass function.\n",
    "- $logpmf(k, n, p, loc=0)$ Log of the probability mass function.\n",
    "- $cdf(k, n, p, loc=0)$ Cumulative distribution function.\n",
    "- $ppf(q, n, p, loc=0)$ Percent point function (inverse of cdf — percentiles).\n",
    "- $stats(mu, loc=0, moments=’mv’)$ Mean(‘m’), variance(‘v’), skew(‘s’), and/or kurtosis(‘k’).\n",
    "- $rvs(n, p, loc=0, size=1, random_state=None)$ Random variates.\n",
    "\n",
    "##### Poisson Distribution\n",
    "$f(k) = \\exp(-\\mu) \\frac{\\mu^k}{k!}$"
   ]
  },
  {
   "cell_type": "code",
   "execution_count": null,
   "id": "ae2b0fa5-bac9-4f53-a2c3-e14a6a47c492",
   "metadata": {
    "tags": []
   },
   "outputs": [],
   "source": [
    "import numpy as np\n",
    "from scipy import stats\n",
    "\n",
    "## Binomial Distribution\n",
    "\n",
    "# Probability \n",
    "print(stats.binom.pmf(1, n=3, p=0.2))\n",
    "print(stats.binom.cdf(2, n=3, p=0.2))\n",
    "\n",
    "# Normal Distribution\n",
    "# What is the probabiltiy for x = 0 ?\n",
    "\n",
    "print(stats.norm.pdf(1,0,1) )\n",
    "print(stats.norm.cdf(0,0,1))\n",
    "print(stats.norm.ppf(0.995,0,1))\n",
    "\n",
    "# Plot normal distribution  between -5 and 5 with .001 steps. \n",
    "# Calculating mean = 0/1 and standard deviation = 1/3\n",
    "x_axis = np.arange(-5, 5, 0.01) \n",
    "mean = 1 \n",
    "sd = 1\n",
    "\n",
    "#plt.plot(x_axis, stats.norm.pdf(x_axis, mean, sd) ) \n",
    "#plt.plot(x_axis, stats.norm.cdf(x_axis, mean, sd)) \n",
    "#plt.legend([mean])\n",
    "#plt.show() \n",
    "\n",
    "plt.style.use('seaborn-v0_8-darkgrid')\n",
    "plt.plot(x_axis, stats.norm.pdf(x_axis, 0, 1), label='μ: 0, σ: 1')\n",
    "plt.plot(x_axis, stats.norm.pdf(x_axis, 1, 1.5), label='μ:1, σ: 1.5')\n",
    "plt.plot(x_axis, stats.norm.pdf(x_axis, 0, 2), label='μ:0, σ: 2')\n",
    "plt.plot(x_axis, stats.norm.cdf(x_axis, 0, 1), label='μ: 0, σ: 1')\n",
    "plt.plot(x_axis, stats.norm.cdf(x_axis, 1, 1.5), label='μ:0, σ: 1.5')\n",
    "plt.plot(x_axis, stats.norm.cdf(x_axis, 0, 2), label='μ:0, σ: 2')\n",
    "plt.legend(labelcolor=\"darkgreen\")\n"
   ]
  },
  {
   "cell_type": "code",
   "execution_count": null,
   "id": "0aed1770-c6fb-4c86-8922-ccc5fc5c6817",
   "metadata": {
    "tags": []
   },
   "outputs": [],
   "source": [
    "from sklearn.utils import resample\n",
    "#import seaborn as sns\n",
    "\n",
    "plt.style.use('ggplot')\n",
    "colornames = list(mcolors.CSS4_COLORS)\n",
    "\n",
    "\n",
    "sample = stats.binom.rvs(n=20, p=0.1,size=1000)\n",
    "pd.Series(sample).plot.hist(bins=20,color = \"coral\",ec=\"white\",alpha=0.6, label ='Poisson')\n",
    "plt.ylabel('Poisson')\n",
    "plt.show()\n",
    "\n",
    "\n",
    "## Poisson and Related Distribution\n",
    "### Poisson Distributions\n",
    "\n",
    "sample = stats.poisson.rvs(2, size=1000)\n",
    "pd.Series(sample).plot.hist(bins=20,color = \"slategrey\",ec=\"white\",alpha=0.6, label ='Poisson')\n",
    "sample = stats.poisson.rvs(1, size=1000)\n",
    "pd.Series(sample).plot.hist(bins=20,color = \"coral\",ec=\"white\",alpha=0.6, label ='Poisson')\n",
    "plt.ylabel('Poisson')\n",
    "plt.show()\n",
    "\n",
    "\n",
    "### Exponential Distribution\n",
    "\n",
    "sample = stats.expon.rvs(scale=5, size=1000)\n",
    "\n",
    "pd.Series(sample).plot.hist(bins=20,color = \"olive\",ec=\"white\",alpha=0.6, label ='Exponential')\n",
    "plt.ylabel('Exponential')\n",
    "plt.show()\n",
    "\n",
    "### Normal Distribution \n",
    "\n",
    "sample = stats.norm.rvs(loc=0, scale=1, size=10000)\n",
    "pd.Series(sample).plot.hist(bins=20,color = \"slategrey\",ec=\"black\",alpha=0.6, label ='Normal')\n",
    "plt.ylabel('Normal')\n",
    "plt.legend()\n",
    "plt.show()\n",
    "\n",
    "###  Weibull Distribution\n",
    "cnr = 0 ;\n",
    "xs = (x for x in [0.8,1,1.5,2,3,4])\n",
    "\n",
    "fig, axs = plt.subplots(6, figsize=(6, 12)) #constrained_layout=True)\n",
    "plt.subplots_adjust(hspace=0.5)\n",
    "for c in xs:\n",
    "    sample = stats.weibull_min.rvs(c,loc=0,size=1000)\n",
    "    pd.Series(sample).plot.hist(bins=20,color = colornames[cnr] ,ec=\"black\",alpha=0.5, \n",
    "                                ax = axs[cnr])\n",
    "    axs[cnr].legend([c],fontsize=\"small\")\n",
    "    cnr = cnr +1\n",
    "plt.show()\n",
    "\n",
    "\n",
    "# Lognormal distrubtion\n",
    "\n",
    "sample = stats.lognorm.rvs( s=0.4, size=1000)\n",
    "pd.Series(sample).plot.hist(bins=40,color = \"peru\",ec=\"black\",alpha=0.6, label ='Lognormal s < 1')\n",
    "sample = stats.lognorm.rvs( s=1, size=1000)\n",
    "pd.Series(sample).plot.hist(bins=80,color = \"yellowgreen\",ec=\"black\",alpha=0.6, label ='Lognormal s>=1')\n",
    "plt.ylabel('Lognormal')\n",
    "plt.xlim(0, 10)\n",
    "plt.legend()\n",
    "plt.show()\n",
    "\n",
    "\n",
    "# t Student distribution \n",
    "\n",
    "rv = stats.t(df=3, loc=0, scale=1)\n",
    "x = np.linspace(-4,4,200)\n",
    "y = rv.pdf(x) \n",
    "fig, ax = plt.subplots()\n",
    "ax.set_title(\"Students $t$-Verteilung mit 3 Freiheitsgraden\")\n",
    "ax.set_xlim(-5, 5)\n",
    "ax.plot(x, y)\n",
    "plt.show()\n",
    "\n",
    "\n",
    "# Compare t-Student with normal distribution \n",
    "yt = stats.t.pdf(x,df=3, loc=0, scale=1)\n",
    "yn = stats.norm.pdf(x,loc=0, scale=1)\n",
    "plt.plot(x,yt)\n",
    "plt.plot(x,yn, \"g*\")\n",
    "plt.xlabel(\"Time\")\n",
    "plt.suptitle(\"Superimposing both graphs in one\")\n",
    "plt.show()\n",
    "\n",
    "# Long-Tailed Distributions\n",
    "# Consider Netflix stock data \n",
    "sp500_px = pd.read_csv(\"C://home/DSAI/datasets/sp500_data.csv\")\n",
    "nflx = sp500_px.NFLX\n",
    "\n",
    "nflxd = np.diff(nflx) # calculates differences between t and t-1\n",
    "#print(len(nflxd))\n",
    "plt.hist(nflxd,bins=50)\n",
    "plt.xlim(-4,4)\n",
    "plt.ylim(0,2000)\n",
    "\n",
    "nflx = np.diff(np.log(nflx[nflx>0]))\n",
    "fig, ax = plt.subplots(figsize=(4, 4))\n",
    "stats.probplot(nflx, plot=ax)\n",
    "\n",
    "plt.tight_layout()\n",
    "plt.show()"
   ]
  },
  {
   "cell_type": "markdown",
   "id": "c7d3c74f-b5a6-4160-8e22-06c857d285aa",
   "metadata": {
    "tags": []
   },
   "source": [
    "### 95% Confidence Interval for Normal distribution"
   ]
  },
  {
   "cell_type": "code",
   "execution_count": null,
   "id": "65bd058b-8287-415c-81f2-3d0479fb2fa9",
   "metadata": {
    "tags": []
   },
   "outputs": [],
   "source": [
    "x = np.random.normal(0, 1, 10000)\n",
    "x = pd.DataFrame(x)\n",
    "ul = np.percentile(x,2.5)\n",
    "ol = np.percentile(x,97.5) \n",
    "print(ul,ol)\n",
    "x.hist(bins=20,ec=\"white\",color=\"skyblue\")\n",
    "plt.axvline(ul, color='royalblue', linestyle='dashed', linewidth=1)\n",
    "plt.axvline(ol, color='royalblue', linestyle='dashed', linewidth=1)\n",
    "plt.show()"
   ]
  },
  {
   "cell_type": "markdown",
   "id": "958f156c-3da8-4b65-860b-273f861f65b9",
   "metadata": {
    "tags": []
   },
   "source": [
    "### Are the data normal distributed ?"
   ]
  },
  {
   "cell_type": "code",
   "execution_count": null,
   "id": "0ac3ad6e-6a9e-42ee-b73b-02e43c07ad0c",
   "metadata": {
    "tags": []
   },
   "outputs": [],
   "source": [
    "np.random.seed(42) \n",
    "mu, sigma = 0, 0.2 # mean and standard deviation\n",
    "s1 = np.random.normal(loc=mu,scale=sigma,size=200)\n",
    "s2 = np.random.normal(mu+0.05, sigma, 200)\n",
    "\n",
    "fig, axes = plt.subplots(1, 2, figsize=(12, 4))\n",
    "\n",
    "axes[0].hist(s1, 30, density=True, alpha=0.5)\n",
    "axes[0].set_title(\"Histogramm von zufällig generierten Daten\\nFrage: Sind diese Daten normalverteilt?\")\n",
    "axes[0].set_xlabel(\"x\")\n",
    "axes[0].set_ylabel(\"count\")\n",
    "\n",
    "axes[1].hist(s1, 20, density=True, alpha=0.5)\n",
    "axes[1].hist(s2, 20, density=True, alpha=0.5)\n",
    "axes[1].set_title('Histogramm von zufällig generierten Daten\\nmean(\"blau\"): %.2f - mean(\"orange\"): %.2f\\nFrage: Sind die Mittelwerte verschieden?' % (np.mean(s1), np.mean(s2)))\n",
    "axes[1].set_xlabel(\"x\")\n",
    "axes[1].set_ylabel(\"count\")\n",
    "\n",
    "plt.show()"
   ]
  }
 ],
 "metadata": {
  "kernelspec": {
   "display_name": "Python 3",
   "language": "python",
   "name": "python3"
  },
  "language_info": {
   "codemirror_mode": {
    "name": "ipython",
    "version": 3
   },
   "file_extension": ".py",
   "mimetype": "text/x-python",
   "name": "python",
   "nbconvert_exporter": "python",
   "pygments_lexer": "ipython3",
   "version": "3.12.4"
  }
 },
 "nbformat": 4,
 "nbformat_minor": 5
}
