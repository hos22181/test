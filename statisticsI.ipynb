{
 "cells": [
  {
   "cell_type": "markdown",
   "id": "df1d27ba-1371-4ce9-bdf9-1c1fc88970cd",
   "metadata": {
    "tags": []
   },
   "source": [
    "# Statistics "
   ]
  },
  {
   "cell_type": "markdown",
   "id": "44e0dcd4-aefd-4b12-98e8-2650c952c5b0",
   "metadata": {
    "tags": []
   },
   "source": [
    "## Key Terms for Data Types\n",
    "## Numeric\n",
    "Data that are expressed on a numeric scale.\n",
    "### Continuous\n",
    "Data that can take on any value in an interval. (Synonyms: interval, float,\n",
    "numeric)\n",
    "### Discrete\n",
    "Data that can take on only integer values, such as counts. (Synonyms: integer,\n",
    "count)\n",
    "###  Categorical\n",
    "Data that can take on only a specific set of values representing a set of possible\n",
    "categories. (Synonyms: enums, enumerated, factors, nominal)\n",
    "### Binary\n",
    "A special case of categorical data with just two categories of values, e.g., 0/1,\n",
    "true/false. (Synonyms: dichotomous, logical, indicator, boolean)\n",
    "Ordinal\n",
    "Categorical data that has an explicit ordering. (Synonym: ordered factor)"
   ]
  },
  {
   "cell_type": "markdown",
   "id": "e933a871-eef8-45d8-ba01-75d085d32dd1",
   "metadata": {
    "jp-MarkdownHeadingCollapsed": true,
    "tags": []
   },
   "source": [
    "# Key Terms for Estimates of Location\n",
    "## Mean\n",
    "The sum of all values divided by the number of values.\n",
    "Synonym\n",
    "average\n",
    "## Weighted mean\n",
    "The sum of all values times a weight divided by the sum of the weights.\n",
    "Synonym\n",
    "weighted average\n",
    "## Median\n",
    "The value such that one-half of the data lies above and below.\n",
    "Synonym\n",
    "## 50th percentile\n",
    "Percentile\n",
    "The value such that P percent of the data lies below.\n",
    "Synonym\n",
    "quantile\n",
    "## Weighted median\n",
    "The value such that one-half of the sum of the weights lies above and below the\n",
    "sorted data.\n",
    "## Trimmed mean\n",
    "The average of all values after dropping a fixed number of extreme values.\n",
    "Synonym\n",
    "truncated mean\n",
    "## Robust\n",
    "Not sensitive to extreme values.\n",
    "Synonym\n",
    "resistant\n",
    "## Outlier\n",
    "A data value that is very different from most of the data.\n",
    "Synonym\n",
    "extreme value"
   ]
  },
  {
   "cell_type": "markdown",
   "id": "17dcba60-9231-49f9-9dfc-0a9b84c30926",
   "metadata": {},
   "source": [
    "# Key Terms for Variability Metrics\n",
    "## Deviations\n",
    "The difference between the observed values and the estimate of location.\n",
    "Synonyms\n",
    "errors, residuals\n",
    "##  Variance\n",
    "The sum of squared deviations from the mean divided by n – 1 where n is the\n",
    "number of data values.\n",
    "Synonym\n",
    "mean-squared-error\n",
    "## Standard deviation\n",
    "The square root of the variance.\n",
    "##  Mean absolute deviation\n",
    "The mean of the absolute values of the deviations from the mean.\n",
    "## Range\n",
    "The difference between the largest and the smallest value in a data set.\n",
    "## Order statistics\n",
    "Metrics based on the data values sorted from smallest to biggest.\n",
    "Synonym\n",
    "ranks\n",
    "## Percentile\n",
    "The value such that P percent of the values take on this value or less and (100–P)\n",
    "percent take on this value or more.\n",
    "Synonym\n",
    "quantile\n",
    "##  Interquartile range\n",
    "The difference between the 75th percentile and the 25th percentile.\n",
    "Synonym\n",
    "IQR"
   ]
  },
  {
   "cell_type": "markdown",
   "id": "be9f9210",
   "metadata": {},
   "source": [
    "## BodyFat Dataset\n",
    "\n",
    "#### Lists estimates of the percentage of body fat determined by underwater weighing and various body circumference measurements for 252 men.\n",
    "\n",
    "Attributes: \n",
    "\n",
    "* Density determined from underwater weighing\n",
    "* Percent body fat from Siri's (1956) equation\n",
    "* Age (years)\n",
    "* Weight (lbs) [ 1 lbs = 0,453592 kg]\n",
    "* Height (inches) [1 inch = 2.54 cm]\n",
    "* Neck circumference (cm)\n",
    "* Chest circumference (cm)\n",
    "* Abdomen 2 circumference (cm)\n",
    "* Hip circumference (cm)\n",
    "* Thigh circumference (cm)\n",
    "* Knee circumference (cm)\n",
    "* Ankle circumference (cm)\n",
    "* Biceps (extended) circumference (cm)\n",
    "* Forearm circumference (cm)\n",
    "* Wrist circumference (cm)\n"
   ]
  },
  {
   "cell_type": "code",
   "execution_count": 399,
   "id": "ec39d26f-5dc9-4534-9cd2-4d645310737b",
   "metadata": {
    "tags": []
   },
   "outputs": [],
   "source": [
    "import pandas as pd\n",
    "home = \"C:/.../bodyfat.csv\"\n",
    "bodyfat = pd.read_csv(home,skiprows=[1])"
   ]
  },
  {
   "cell_type": "code",
   "execution_count": null,
   "id": "c7240ace",
   "metadata": {},
   "outputs": [],
   "source": [
    "\n",
    "bodyfat.info()\n",
    "bodyfat.shape"
   ]
  },
  {
   "cell_type": "markdown",
   "id": "02396c75",
   "metadata": {},
   "source": [
    "### Bodyfat DataFrame Description"
   ]
  },
  {
   "cell_type": "code",
   "execution_count": null,
   "id": "ccf6e150",
   "metadata": {},
   "outputs": [],
   "source": [
    "# Description\n",
    "\n",
    "bodyfat.info()\n",
    "bodyfat.head()\n",
    "bodyfat.describe()"
   ]
  },
  {
   "cell_type": "code",
   "execution_count": null,
   "id": "a701b82c",
   "metadata": {},
   "outputs": [],
   "source": [
    "bodyfat.head()"
   ]
  },
  {
   "cell_type": "markdown",
   "id": "5381714d-718f-49cf-8bdc-3aaadbb513de",
   "metadata": {
    "tags": []
   },
   "source": [
    "### Null Values?"
   ]
  },
  {
   "cell_type": "code",
   "execution_count": null,
   "id": "778dcd9e-3ae5-4201-aee4-8b492f72d2db",
   "metadata": {
    "tags": []
   },
   "outputs": [],
   "source": [
    "bodyfat.isna()\n",
    "bodyfat.isna().any()\n",
    "print(bodyfat.isnull())\n",
    "print(bodyfat.isnull().sum()) # Null values in rows\n",
    "print(bodyfat.isnull().sum().sum()) # Sum of all null values"
   ]
  },
  {
   "cell_type": "markdown",
   "id": "cb41f89e",
   "metadata": {},
   "source": [
    "\n",
    "# Pandas Cut – Continuous to Categorical\n",
    "\n",
    "* Sometimes analysis becomes effortless on conversion from continuous to discrete data. \n",
    "* Pandas’ cut function is a distinguished way of converting numerical continuous data into categorical data. It has 3 major  necessary parts:\n",
    "    * First and foremost is the 1-D array/DataFrame required for input.\n",
    "    * Bins represent boundaries of separate bins for continuous data. bins = 0,10,20, ... -> (0-10], (10-20] , etc \n",
    "    * Labels: The number of labels without exception will be one lower than the number of bins. [\"young\", \"middle\", ...]\n"
   ]
  },
  {
   "cell_type": "code",
   "execution_count": null,
   "id": "f57b4a2e",
   "metadata": {},
   "outputs": [],
   "source": [
    "bodyfat['Label'] = pd.cut(x=bodyfat['Age'], bins=[20, 35, 50, 65, 99], \n",
    "                     labels=['YoungAdults', 'Adults', 'Elderly', 'Seniors'])\n",
    "\n",
    "bodyfat[\"Label\"].value_counts()"
   ]
  },
  {
   "cell_type": "code",
   "execution_count": null,
   "id": "9282680d",
   "metadata": {},
   "outputs": [],
   "source": [
    "sns.histplot(bodyfat, x=\"Weight\",bins=10,hue=\"Label\") "
   ]
  },
  {
   "cell_type": "markdown",
   "id": "d10f2bf8-e320-4b8e-a0df-c7cf4519f8f8",
   "metadata": {},
   "source": [
    "## Descriptive Statistical Functions"
   ]
  },
  {
   "cell_type": "markdown",
   "id": "d3186605-98a2-4d84-98a8-dd517ddeb8ba",
   "metadata": {},
   "source": [
    "|Sr.No. | Function   | Description|\n",
    "|:----- |:----- |:-----|\n",
    "|1 \t| count() | Number of non-null observations|\n",
    "|2 \t| sum()   | Sum of values|\n",
    "|3 \t| mean()  |\tMean of Values|\n",
    "|4 \t| median() | Median of Values|\n",
    "|5 \t| mode() |\tMode of values|\n",
    "|6 \t| std() |\tStandard Deviation of the Values|\n",
    "|7 \t| min() |\tMinimum Value|\n",
    "|8 \t| max() \t|Maximum Value|\n",
    "|9  | abs() \t|Absolute Value|\n",
    "|10 | prod() |\tProduct of Values|\n",
    "|11 | cumsum() |\tCumulative Sum|\n",
    "|12 | cumprod() |\tCumulative Product|"
   ]
  },
  {
   "cell_type": "markdown",
   "id": "dd3c536d-5a5c-439d-9133-1df87b792650",
   "metadata": {},
   "source": [
    "## Statistical functions"
   ]
  },
  {
   "cell_type": "code",
   "execution_count": null,
   "id": "1728466f-41e2-487c-90f0-3ce7fcb382b2",
   "metadata": {
    "tags": []
   },
   "outputs": [],
   "source": [
    "print(bodyfat[\"Density\"].mean(), bodyfat[\"Weight\"].mean()); \n",
    "print(bodyfat[\"BodyFat\"].median(),bodyfat[\"Height\"].var()); \n",
    "print(bodyfat[\"BodyFat\"].quantile(0.5))\n",
    "print(bodyfat[[\"BodyFat\",\"Weight\"]].quantile([0.05, 0.25, 0.5, 0.75, 0.95]))"
   ]
  },
  {
   "cell_type": "code",
   "execution_count": null,
   "id": "7bc5db32-afc2-42f7-88fc-601782dca0a3",
   "metadata": {
    "tags": []
   },
   "outputs": [],
   "source": [
    "# data[\"BodyFat\"].max()\n",
    "bodyfat[bodyfat[\"BodyFat\"] <=5]\n",
    "bodyfat.loc[bodyfat[\"BodyFat\"] <=5, \"Weight\"]  # only Weight Col for BodyFat < 5"
   ]
  },
  {
   "cell_type": "markdown",
   "id": "80b5c211-871b-47c1-8af9-184aa5b1cf7e",
   "metadata": {
    "tags": []
   },
   "source": [
    "# Key Terms for Exploring the Distribution\n",
    "## Boxplot\n",
    "A plot introduced by Tukey as a quick way to visualize the distribution of data.\n",
    "Synonym\n",
    "box and whiskers plot\n",
    "## Frequency table\n",
    "A tally of the count of numeric data values that fall into a set of intervals (bins).\n",
    "## Histogram\n",
    "A plot of the frequency table with the bins on the x-axis and the count (or proportion)\n",
    "on the y-axis. While visually similar, bar charts should not be confused\n",
    "with histograms. See “Exploring Binary and Categorical Data” on page 27 for a\n",
    "discussion of the difference.\n",
    "## Density plot\n",
    "A smoothed version of the histogram, often representing the probabilty density curve. \n",
    "If no standard PDF fits to the data, a kernel density estimate (KDE) plot is used for visualizing the distribution of observations. KDE is used, to represent the data using a continuous probability density curve in one or more dimensions.\n",
    "https://www.aptech.com/blog/the-fundamentals-of-kernel-density-estimation/"
   ]
  },
  {
   "cell_type": "markdown",
   "id": "4d3ce022-3f8d-4233-9a9c-590df56f46a5",
   "metadata": {},
   "source": [
    "# Plotting with Python/Matplotlib/Seaborn\n",
    "\n",
    "- Matplotlib is an amazing visualization library in Python for 2D plots of arrays\n",
    "- Seaborn is a Python visualization library based on matplotlib. It provides a high-level interface for drawing attractive statistical graphics."
   ]
  },
  {
   "cell_type": "code",
   "execution_count": null,
   "id": "216b29b6-0987-4921-a527-877e34abb696",
   "metadata": {
    "tags": []
   },
   "outputs": [],
   "source": [
    "# \"matplotlib notebook\" -- will lead to interactive plots embedded within the notebook\n",
    "# \"matplotlib inline\" will lead to static images of your plot embedded in the notebook\n",
    "\n",
    "import numpy as np\n",
    "%matplotlib inline\n",
    "import matplotlib.pyplot as plt # importing the matplotlib pyplot module\n",
    "\n",
    "plt.style.use('dark_background') # using a plotting style\n",
    "print(plt.style.available)"
   ]
  },
  {
   "cell_type": "markdown",
   "id": "3b570fa5",
   "metadata": {},
   "source": [
    "* When looking at Matplotlib visualization, one almost always looking at Artists placed on a Figure. \n",
    "* There is an Object Hierarchy within Matplotlib. In Matplotlib, a plot is a hierarchy of nested Python objects. AhierA hierarchy means that there is a tree-like structure of Matplotlib objects underlying each plot.\n",
    "* A Figure object is the outermost container for a Matplotlib plot. The Figure object contain multiple Axes objects. So, the Figure is the final graphic that may contain one or more Axes. The Axes represent an individual plot."
   ]
  },
  {
   "cell_type": "code",
   "execution_count": null,
   "id": "49dcf699",
   "metadata": {},
   "outputs": [],
   "source": [
    "\n",
    "# Here, the figure is the blue region and add_subplot has added an Axes artist to the Figure (see Parts of a Figure). \n",
    "# A more complicated visualization can add multiple Axes to the Figure, colorbars, legends, annotations, \n",
    "# and the Axes themselves can have multiple Artists added to them (e.g. ax.plot or ax.imshow).\n",
    "\n",
    "fig, axs = plt.subplots(ncols=2, nrows=2, figsize=(3.5, 2.5),\n",
    "                        layout=\"constrained\")\n",
    "# for each Axes, add an artist, in this case a nice label in the middle...\n",
    "for row in range(2):\n",
    "    for col in range(2):\n",
    "        axs[row, col].annotate(f'axs[{row}, {col}]', (0.5, 0.5),\n",
    "                            transform=axs[row, col].transAxes,\n",
    "                            ha='center', va='center', fontsize=18,\n",
    "                            color='darkgrey')"
   ]
  },
  {
   "cell_type": "code",
   "execution_count": null,
   "id": "b2b25b09-5ad8-46ae-937e-cda3939ad5e3",
   "metadata": {
    "tags": []
   },
   "outputs": [],
   "source": [
    "# Another figure with a single Axes and a title centered on the figure\n",
    "\n",
    "fig, ax = plt.subplots(figsize=(10, 5), facecolor='lightgrey',\n",
    "                       layout='compressed')  # or e.g. compressed or constrained\n",
    "fig.suptitle('Figure Plot',color=\"grey\")\n",
    "ax.set_title('Axes', loc='left', fontstyle='oblique', fontsize='medium', color=\"green\") \n",
    "ax.plot(np.random.rand(100)) # plot a random series"
   ]
  },
  {
   "cell_type": "markdown",
   "id": "cbed4b68-963a-4b6f-a9dc-d89678bda50e",
   "metadata": {
    "tags": []
   },
   "source": [
    "#### Colors - Names and Hex Code"
   ]
  },
  {
   "cell_type": "code",
   "execution_count": 411,
   "id": "23498b19-1002-46c4-afd0-88df8dbcf682",
   "metadata": {
    "tags": []
   },
   "outputs": [],
   "source": [
    "import matplotlib.colors as mcolors\n",
    "#plot_colortable(mcolors.CSS4_COLORS)\n",
    "#plt.show()\n",
    "import math\n",
    "\n",
    "import matplotlib.pyplot as plt\n",
    "\n",
    "import matplotlib.colors as mcolors\n",
    "from matplotlib.patches import Rectangle\n",
    "\n",
    "\n",
    "def plot_colortable(colors, *, ncols=4, sort_colors=True):\n",
    "\n",
    "    cell_width = 212\n",
    "    cell_height = 22\n",
    "    swatch_width = 48\n",
    "    margin = 12\n",
    "\n",
    "    # Sort colors by hue, saturation, value and name.\n",
    "    if sort_colors is True:\n",
    "        names = sorted(\n",
    "            colors, key=lambda c: tuple(mcolors.rgb_to_hsv(mcolors.to_rgb(c))))\n",
    "    else:\n",
    "        names = list(colors)\n",
    "\n",
    "    n = len(names)\n",
    "    nrows = math.ceil(n / ncols)\n",
    "\n",
    "    width = cell_width * ncols + 2 * margin\n",
    "    height = cell_height * nrows + 2 * margin\n",
    "    dpi = 72\n",
    "\n",
    "    fig, ax = plt.subplots(figsize=(width / dpi, height / dpi), dpi=dpi)\n",
    "    fig.subplots_adjust(margin/width, margin/height,\n",
    "                        (width-margin)/width, (height-margin)/height)\n",
    "    ax.set_xlim(0, cell_width * ncols)\n",
    "    ax.set_ylim(cell_height * (nrows-0.5), -cell_height/2.)\n",
    "    ax.yaxis.set_visible(False)\n",
    "    ax.xaxis.set_visible(False)\n",
    "    ax.set_axis_off()\n",
    "\n",
    "    for i, name in enumerate(names):\n",
    "        row = i % nrows\n",
    "        col = i // nrows\n",
    "        y = row * cell_height\n",
    "\n",
    "        swatch_start_x = cell_width * col\n",
    "        text_pos_x = cell_width * col + swatch_width + 7\n",
    "\n",
    "        ax.text(text_pos_x, y, name, fontsize=14,\n",
    "                horizontalalignment='left',\n",
    "                verticalalignment='center')\n",
    "\n",
    "        ax.add_patch(\n",
    "            Rectangle(xy=(swatch_start_x, y-9), width=swatch_width,\n",
    "                      height=18, facecolor=colors[name], edgecolor='0.7')\n",
    "        )\n",
    "\n",
    "    return fig\n"
   ]
  },
  {
   "cell_type": "code",
   "execution_count": null,
   "id": "8896128c-05e8-4172-9d0a-7684830d31b1",
   "metadata": {
    "tags": []
   },
   "outputs": [],
   "source": [
    "plot_colortable(mcolors.CSS4_COLORS)\n",
    "plt.show()\n",
    "mcolors.TABLEAU_COLORS"
   ]
  },
  {
   "cell_type": "markdown",
   "id": "5b95e642",
   "metadata": {},
   "source": [
    "## Plotting Statistical Graphics with Seaborn/Seaborn Objects\n",
    "\n",
    "* https://seaborn.pydata.org/tutorial/function_overview.html"
   ]
  },
  {
   "cell_type": "code",
   "execution_count": 413,
   "id": "8f49e87f",
   "metadata": {},
   "outputs": [],
   "source": [
    "import seaborn as sns\n",
    "import seaborn.objects as so\n",
    "\n",
    "sns.set_theme(style=\"darkgrid\")\n"
   ]
  },
  {
   "cell_type": "markdown",
   "id": "7f060e98-c888-46e2-9899-edec69db0624",
   "metadata": {
    "tags": []
   },
   "source": [
    "## Histogram"
   ]
  },
  {
   "cell_type": "code",
   "execution_count": null,
   "id": "94de2bd1",
   "metadata": {},
   "outputs": [],
   "source": [
    "# Histogram with KDE = Kernel Density Estimation \n",
    "sns.histplot(bodyfat, x=\"Age\",bins=60, kde=True, color=\"peru\") "
   ]
  },
  {
   "cell_type": "markdown",
   "id": "cc0b2264",
   "metadata": {},
   "source": [
    "### Plotting Multiple Histograms in One Plot"
   ]
  },
  {
   "cell_type": "code",
   "execution_count": null,
   "id": "e8a689e5",
   "metadata": {},
   "outputs": [],
   "source": [
    "# Sample data\n",
    "\n",
    "homedir = \"C:/.../titanic.csv\"\n",
    "titanicdf = pd.read_csv(homedir, sep=';', decimal = ',',skiprows=[1])  # skip the first row\n",
    "data1 = titanicdf.query(\"pclass == 1.0\")['age'].dropna()    # equivalent to data1 = df[df['pclass'] == 1.0]['age'] \n",
    "data2 = titanicdf.query(\"pclass == 3.0\")['age'].dropna()\n",
    "     \n",
    "sns.histplot(data=data1, color='goldenrod', alpha=0.5, kde=False, label='First Class')\n",
    "sns.histplot(data=data2, color='indigo', alpha=0.5, kde=True, label='Third Class')\n",
    "\n",
    "# Adding labels and legend\n",
    "plt.xlabel('Age')\n",
    "plt.ylabel('Density')\n",
    "plt.title('Age distribution of Titanic passengers',fontsize=15,color='darkviolet',fontstyle='italic')\n",
    "plt.legend()\n",
    "\n",
    "plt.show()"
   ]
  },
  {
   "cell_type": "code",
   "execution_count": null,
   "id": "354ecdfb",
   "metadata": {},
   "outputs": [],
   "source": [
    "# grouped histograms\n",
    "\n",
    "colors = ['#0000FF', '#00FF00']\n",
    "sns.histplot(data=titanicdf, x=\"age\", hue=\"sex\",multiple=\"stack\", palette=colors)\n",
    "plt.title('Age distribution of Titanic m/f passengers',fontsize=15,color='darkblue',fontstyle='italic')\n",
    "plt.show()"
   ]
  },
  {
   "cell_type": "code",
   "execution_count": null,
   "id": "f9107e1a-9233-4d5e-8115-e58dbd056898",
   "metadata": {
    "tags": []
   },
   "outputs": [],
   "source": [
    "# Random samples of BodyFat n=20\n",
    "d1 = bodyfat[\"Biceps\"].sample(n=50, random_state=1)\n",
    "d2 = bodyfat[\"Knee\"].sample(n=50, random_state=1)\n",
    "d3 = bodyfat[\"Thigh\"].sample(n=50, random_state=1)\n",
    "\n",
    "\n",
    "sns.histplot(data=d1, bins=10, color='grey', alpha=0.8, label='Biceps')\n",
    "sns.histplot(data=d2, bins=10, color='orange', alpha=0.8, label='Knee')\n",
    "sns.histplot(data=d3, bins=10, color='green', alpha=0.6, label='Thigh')\n",
    "\n",
    "plt.xlabel('Age')\n",
    "plt.ylabel('Density')\n",
    "plt.legend()\n",
    "plt.title('Sample Distribution of various body circumference measures ',fontsize=15,color='grey',fontstyle='italic')\n",
    "\n",
    "plt.show()\n"
   ]
  },
  {
   "cell_type": "markdown",
   "id": "0b3bc9ac-7d3c-49e3-a031-64b334968294",
   "metadata": {
    "tags": []
   },
   "source": [
    "## Boxplot"
   ]
  },
  {
   "cell_type": "code",
   "execution_count": null,
   "id": "c8bde6ae-fe1e-41ad-ab99-5ab5c344070b",
   "metadata": {
    "tags": []
   },
   "outputs": [],
   "source": [
    "#Simple Boxplot\n",
    "#plt.style.use('ggplot')\n",
    "\n",
    "fig, ax = plt.subplots(figsize=(4, 8)) \n",
    "#  It returns the figure and the array of axes. While calling the seaborn plot \n",
    "# we will set the ax parameter  equal to the array of axes that was returned \n",
    "# by matplotlib.pyplot.subplots after setting the dimensions of the desired plot.\n",
    "sns.boxplot(data=bodyfat[\"BodyFat\"], color='peru',ax=ax)\n",
    "\n",
    "plt.title('BodyFat Distribution',fontsize=15,color='grey',fontstyle='italic')\n",
    "plt.ylabel('BF in %')\n",
    "plt.show()"
   ]
  },
  {
   "cell_type": "code",
   "execution_count": null,
   "id": "b82a9465",
   "metadata": {},
   "outputs": [],
   "source": [
    "# Boxplot with multiple categories\n",
    "sns.boxplot(data=titanicdf, y='age', hue='pclass', palette='Set2', gap=0.5)\n",
    "plt.title(\"Titanic: Age Distribution per class\")"
   ]
  },
  {
   "cell_type": "markdown",
   "id": "17f7cd1b",
   "metadata": {},
   "source": [
    "#### Multiple Plots of various attributes of BodyFat data "
   ]
  },
  {
   "cell_type": "code",
   "execution_count": null,
   "id": "3109a75f",
   "metadata": {},
   "outputs": [],
   "source": [
    "\n",
    "sns.color_palette(\"hls\", 8)\n",
    "fig, axes = plt.subplots(2, 3, figsize=(18, 10))\n",
    "\n",
    "# Boxplot with medean and mean (marker = \"+\")\n",
    "sns.boxplot(ax=axes[0, 0], data=bodyfat[\"BodyFat\"],color='#56bdff',showmeans=True,  meanprops={\"marker\": \"+\", \"markeredgecolor\": \"black\", \"markersize\": \"10\"})\n",
    "sns.boxplot(ax=axes[0, 1], data=bodyfat[\"Hip\"],color='#07335d',showmeans=True, meanprops={\"marker\": \"+\", \"markeredgecolor\": \"white\", \"markersize\": \"10\"})\n",
    "sns.boxplot(ax=axes[0, 2], data=bodyfat[\"Ankle\"],color='#a9aaab')\n",
    "sns.boxplot(ax=axes[1, 0], data=bodyfat[\"Weight\"],color='#ff9856',notch=True)\n",
    "sns.boxplot(ax=axes[1, 1], data=bodyfat[\"Biceps\"],color='#ecd1cb',notch=True)\n",
    "sns.histplot(ax=axes[1, 2], data=bodyfat[\"Weight\"],color='#FAD02E')\n",
    "\n",
    "# Set the title for the figure\n",
    "plt.suptitle('Sample Distribution of various body circumference measures',fontsize=35,color='grey',fontstyle='italic')\n",
    "\n",
    "# set the title to subplots\n",
    "axes[0, 0].set_title(\"Boxplot of BodyFat\")\n"
   ]
  },
  {
   "cell_type": "markdown",
   "id": "fac615b9",
   "metadata": {},
   "source": [
    "#### Empirical cumulative distributions - Cumulative histograms"
   ]
  },
  {
   "cell_type": "code",
   "execution_count": null,
   "id": "5d335b5e",
   "metadata": {},
   "outputs": [],
   "source": [
    "# Culmulative distribution of BodyFat \n",
    "\n",
    "sns.histplot(data=bodyfat, x=\"BodyFat\",  element=\"step\", cumulative=True, stat=\"density\", common_norm=True, color='sandybrown')\n",
    "#sns.histplot(data=bodyfat, x=\"BodyFat\",  element=\"poly\", cumulative=True, stat=\"density\", common_norm=True, color='sandybrown')\n",
    "\n",
    "plt.title('Bodyfat cumultative distribution of sample',fontsize=15,color='darkblue',fontstyle='italic')"
   ]
  },
  {
   "cell_type": "code",
   "execution_count": null,
   "id": "39501885",
   "metadata": {},
   "outputs": [],
   "source": [
    "sns.histplot(\n",
    "    data=titanicdf, x=\"age\", hue=\"sex\",\n",
    "    element=\"step\", cumulative=True, stat=\"density\", common_norm=True\n",
    ")\n",
    "plt.title('Age distribution of Titanic m/f passengers',fontsize=15,color='darkblue',fontstyle='italic')"
   ]
  },
  {
   "cell_type": "code",
   "execution_count": null,
   "id": "afe98980-2010-4553-bad4-9ae4cf58fcc6",
   "metadata": {
    "tags": []
   },
   "outputs": [],
   "source": [
    "# Customize the plot using parameters of the underlying matplotlib function:\n",
    "sns.boxplot(\n",
    "    data=titanicdf, x=\"age\", y=\"sex\",\n",
    "    notch=True, showcaps=False,\n",
    "    flierprops={\"marker\": \"x\"},\n",
    "    boxprops={\"facecolor\": (.3, .5, .7, .5)},\n",
    "    medianprops={\"color\": \"r\", \"linewidth\": 2}\n",
    ")"
   ]
  },
  {
   "cell_type": "markdown",
   "id": "3d90049c",
   "metadata": {},
   "source": [
    "## KDE Plots\n",
    "\n",
    "A kernel density estimate (KDE) plot is a method for visualizing the distribution of observations in a dataset, analogous to a histogram. KDE represents the data using a continuous probability density curve in one or more dimensions."
   ]
  },
  {
   "cell_type": "code",
   "execution_count": null,
   "id": "4194d3ac",
   "metadata": {},
   "outputs": [],
   "source": [
    "sns.kdeplot(data=bodyfat, x=\"BodyFat\", fill=True, common_norm=False, linewidth=1, bw_adjust=1)\n",
    "# sns.kdeplot(data=bodyfat, x=\"BodyFat\", fill=True, common_norm=False, linewidth=0, bw_adjust=.1)\n",
    "# bw_adjust controls (> 0) the bandwith of the kernel density estimate\n",
    "plt.title('Bodyfat distribution of sample',fontsize=15,color='darkblue',fontstyle='italic')"
   ]
  },
  {
   "cell_type": "code",
   "execution_count": null,
   "id": "7e9740db",
   "metadata": {},
   "outputs": [],
   "source": [
    "sns.kdeplot(data=bodyfat,x=\"BodyFat\", hue=\"Label\", common_norm=False, palette=\"crest\", alpha=.5, linewidth=2, fill=True)\n",
    "plt.ylabel('ProbDensity')\n"
   ]
  },
  {
   "cell_type": "markdown",
   "id": "f9c8515c",
   "metadata": {},
   "source": [
    "### Violinplots\n",
    "\n",
    "The default violinplot represents a distribution two ways: a patch showing a symmetric kernel density estimate (KDE), and the quartiles / whiskers of a box plot:"
   ]
  },
  {
   "cell_type": "code",
   "execution_count": null,
   "id": "4fe5b5ad",
   "metadata": {},
   "outputs": [],
   "source": [
    "sns.violinplot(x=titanicdf[\"age\"])"
   ]
  },
  {
   "cell_type": "code",
   "execution_count": null,
   "id": "c92f732c",
   "metadata": {},
   "outputs": [],
   "source": [
    "titanicdf.info()"
   ]
  },
  {
   "cell_type": "code",
   "execution_count": null,
   "id": "19c3c944",
   "metadata": {},
   "outputs": [],
   "source": [
    "# Violin plot of titanic age /survival rate distribution depending on class\n",
    "# titanicdf1 = pd.read_csv(homedir, sep=';', decimal = ',',skiprows=[1])  # \"new\" dataframe with shipping class as category \n",
    "\n",
    "#sns.violinplot(data=titanicdf1, x=\"age\", y=\"class\")\n",
    "sns.violinplot(data=titanicdf1, x=\"class\", y=\"age\", hue=\"survived\")"
   ]
  },
  {
   "cell_type": "markdown",
   "id": "f71cc19e",
   "metadata": {},
   "source": [
    "# Plotting Categorial Data"
   ]
  },
  {
   "cell_type": "markdown",
   "id": "6b0af319",
   "metadata": {},
   "source": [
    "### Barplot"
   ]
  },
  {
   "cell_type": "code",
   "execution_count": null,
   "id": "6e080d93",
   "metadata": {},
   "outputs": [],
   "source": [
    "sns.barplot(data=bodyfat, x=\"Label\", y=\"Density\", estimator=\"sum\", linewidth=2, fill=True, errorbar=None)\n",
    "plt.title('Age Groups of Bodyfat Study',fontsize=15,color='darkblue',fontstyle='italic')\n",
    "plt.ylabel('Number of Participants')\n",
    "plt.xlabel('Age Group')"
   ]
  },
  {
   "cell_type": "code",
   "execution_count": null,
   "id": "9b94fd11",
   "metadata": {},
   "outputs": [],
   "source": [
    "# Data for the pie plot\n",
    "parties = ['ÖVP', 'SPÖ', 'FPÖ', 'GRÜNE', 'NEOS',\"REST\"]\n",
    "votes = [1282734, 1032234, 1408514, 402107, 446378,310921]\n",
    "colors = ['grey', 'red', 'blue', 'green', 'pink','wheat']\n",
    "explode = (0, 0, 0.1, 0, 0,0)  # explode the 1st slice (i.e. 'Party A')\n",
    "\n",
    "# Create the pie plot\n",
    "plt.figure(figsize=(4, 4))\n",
    "plt.pie(votes, explode=explode, labels=parties, colors=colors, autopct='%1.1f%%', shadow=True, startangle=140)\n",
    "plt.title('Austrian Election Results 2024', fontsize=15, color='grey', fontstyle='italic')\n",
    "plt.show()"
   ]
  },
  {
   "cell_type": "markdown",
   "id": "d9154b27-bd80-47ba-ad2e-0c2507bef85f",
   "metadata": {
    "tags": []
   },
   "source": [
    "## Correlation /Scatter  Plots"
   ]
  },
  {
   "cell_type": "markdown",
   "id": "105eca08-28b5-4608-acb1-2c01d22fa5fb",
   "metadata": {},
   "source": [
    "- The scatter plot is a mainstay of statistical visualization. It depicts the joint distribution of two variables using a cloud of points, where each point represents an observation in the dataset. \n",
    "- A metric that measures the extent to which numeric variables are associated with one another (ranges from –1 to +1).\n",
    "$\n",
    "r = \\frac{{}\\sum_{i=1}^{n} (x_i - \\overline{x})(y_i - \\overline{y})}\n",
    "{\\sqrt{\\sum_{i=1}^{n} (x_i - \\overline{x})^2  \\sum_{i=1}^{n}(y_i - \\overline{y})^2}}\n",
    "$"
   ]
  },
  {
   "cell_type": "code",
   "execution_count": null,
   "id": "2fa11c42",
   "metadata": {},
   "outputs": [],
   "source": [
    "sns.scatterplot(data=bodyfat, x=bodyfat.Age , y=bodyfat.BodyFat,sizes=(20, 200), color='blue', alpha=0.8)\n",
    "plt.title('Correlation: BodyFat vs Age',fontsize=15,color='darkblue',fontstyle='italic')"
   ]
  },
  {
   "cell_type": "code",
   "execution_count": null,
   "id": "75ce0fdb-44d6-4395-9f68-a9a8b1761d78",
   "metadata": {
    "tags": []
   },
   "outputs": [],
   "source": [
    "sns.scatterplot(data= bodyfat, x = bodyfat[\"Weight\"], y= bodyfat[\"BodyFat\"], color=\"black\", alpha=0.8)\n",
    "plt.xlabel(\"Body Weight (lbs)\")\n",
    "plt.ylabel(\"Percent Body Fat\")\n"
   ]
  },
  {
   "cell_type": "markdown",
   "id": "ba5edbbe",
   "metadata": {},
   "source": [
    "### Scatterplot in \"3\" dimensions\n",
    "\n",
    "Adding a further dimension to the plot"
   ]
  },
  {
   "cell_type": "code",
   "execution_count": null,
   "id": "85ebae6e",
   "metadata": {},
   "outputs": [],
   "source": [
    "sns.scatterplot(data=bodyfat, x=\"Weight\", y=\"BodyFat\", hue=\"Label\", palette=\"deep\",style=\"Label\")\n",
    "plt.title('Correlation: BodyFat vs Weight of Age classes',fontsize=15,color='darkblue',fontstyle='italic')"
   ]
  },
  {
   "cell_type": "markdown",
   "id": "489576e3",
   "metadata": {},
   "source": [
    "### Adding Correlation Coefficient"
   ]
  },
  {
   "cell_type": "code",
   "execution_count": null,
   "id": "2aabd3e4",
   "metadata": {},
   "outputs": [],
   "source": [
    "import scipy\n",
    "#calculate correlation coefficient between x and y\n",
    "r = scipy.stats.pearsonr(x=bodyfat.Weight, y=bodyfat.BodyFat)[0]\n",
    "\n",
    "#create scatterplot\n",
    "sns.scatterplot(data=bodyfat, x=\"Weight\", y=\"BodyFat\", color=\"black\")\n",
    "\n",
    "#add correlation coefficient to plot\n",
    "plt.text(250,45, 'Pearson Correlation: r = ' + str(round(r, 2)), fontsize=10, color='black',bbox=dict(facecolor='grey', alpha=0.5))"
   ]
  },
  {
   "cell_type": "markdown",
   "id": "01073178",
   "metadata": {},
   "source": [
    "### Adding a Regression Line to the Correlation"
   ]
  },
  {
   "cell_type": "code",
   "execution_count": null,
   "id": "ee3c7116-04ef-438c-9bd5-15217429e0b7",
   "metadata": {
    "tags": []
   },
   "outputs": [],
   "source": [
    "# Adding a new column for BMI (Body Mass Index) to the bodyfat dataframe [Dim] = lbs/inch^2 -> 703*kg/m^2   \n",
    "\n",
    "bodyfat1 = bodyfat.copy()\n",
    "\n",
    "bodyfat1[\"BMI\"] = 703*bodyfat[\"Weight\"]/(bodyfat[\"Height\"])**2\n",
    "\n",
    "# Scatterplot of BMI vs BodyFat\n",
    "sns.scatterplot(data=bodyfat1, x=\"BMI\", y=\"BodyFat\", color=\"blue\")\n",
    "\n",
    "# adding linear regression line\n",
    "sns.regplot(data=bodyfat1, x=\"BMI\", y=\"BodyFat\", color=\"blue\", scatter_kws={\"s\": 10})\n",
    "\n",
    "plt.title(\"BMI vrs Bodyfat\")\n",
    "plt.ylabel('Bodyfat')\n",
    "plt.xlabel('BMI')\n"
   ]
  },
  {
   "cell_type": "markdown",
   "id": "1644ba39",
   "metadata": {},
   "source": [
    "### Detecting and Removing Outliners "
   ]
  },
  {
   "cell_type": "code",
   "execution_count": 436,
   "id": "73a27c03",
   "metadata": {},
   "outputs": [],
   "source": [
    "outliers = 50 # define the threshold for outliers\n",
    "bodyfat1[bodyfat1[\"BMI\"] > outliers]\n",
    "\n",
    "bodyfat2 = bodyfat1[bodyfat1[\"BMI\"] < outliers] "
   ]
  },
  {
   "cell_type": "markdown",
   "id": "d773b67f",
   "metadata": {},
   "source": [
    "### Scatterplot without outliners"
   ]
  },
  {
   "cell_type": "code",
   "execution_count": null,
   "id": "c25c3804",
   "metadata": {},
   "outputs": [],
   "source": [
    "# Scatterplot of BMI vs BodyFat\n",
    "sns.scatterplot(data=bodyfat2, x=\"BMI\", y=\"BodyFat\", color=\"blue\")\n",
    "\n",
    "# adding linear regression line\n",
    "sns.regplot(data=bodyfat2, x=\"BMI\", y=\"BodyFat\", color=\"blue\", scatter_kws={\"s\": 10},ci=95)\n",
    "\n",
    "plt.title(\"BMI vrs Bodyfat\")\n",
    "plt.ylabel('Bodyfat')\n",
    "plt.xlabel('BMI')"
   ]
  },
  {
   "cell_type": "markdown",
   "id": "398074a8",
   "metadata": {},
   "source": [
    "#### Emphasizing continuity with line plots\n",
    "\n",
    "In cases, where x is e.g. a timeline it's better to use line plots"
   ]
  },
  {
   "cell_type": "code",
   "execution_count": null,
   "id": "92bbc665",
   "metadata": {},
   "outputs": [],
   "source": [
    "dowjones = sns.load_dataset(\"dowjones\")\n",
    "sns.relplot(data=dowjones, x=\"Date\", y=\"Price\", kind=\"line\")"
   ]
  },
  {
   "cell_type": "markdown",
   "id": "a1dc3579-910b-4dd4-811b-e9d2f4a048e7",
   "metadata": {},
   "source": [
    "## Pair plots\n",
    "- Are very useful for exploring correlations between multidimensional data, when you'd like to plot all pairs of values against each other.\n",
    "\n",
    "- Some examples for various layouts"
   ]
  },
  {
   "cell_type": "code",
   "execution_count": null,
   "id": "0d462197",
   "metadata": {},
   "outputs": [],
   "source": [
    "sns.pairplot(data=bodyfat1, vars=[\"Weight\", \"Height\", \"BodyFat\"], hue=\"Label\", palette=\"deep\")"
   ]
  },
  {
   "cell_type": "code",
   "execution_count": null,
   "id": "a4cbaced",
   "metadata": {},
   "outputs": [],
   "source": [
    "sns.pairplot(data=bodyfat1, vars=[\"Weight\", \"Height\", \"BodyFat\"], hue=\"Label\", diag_kind=\"hist\", palette=\"deep\")"
   ]
  },
  {
   "cell_type": "code",
   "execution_count": null,
   "id": "5628d63c",
   "metadata": {},
   "outputs": [],
   "source": [
    "sns.pairplot(data=bodyfat1, vars=[\"Weight\", \"Height\", \"BodyFat\"], kind=\"kde\")"
   ]
  },
  {
   "cell_type": "markdown",
   "id": "5d34adf2",
   "metadata": {},
   "source": [
    "## Visualizing many attributes in one plot"
   ]
  },
  {
   "cell_type": "code",
   "execution_count": null,
   "id": "982eb7d9-31c4-441f-b22a-3a62d80704c1",
   "metadata": {
    "tags": []
   },
   "outputs": [],
   "source": [
    "import statsmodels.api as sm\n",
    "import scipy.stats as stats\n",
    "\n",
    "plt.style.use('ggplot')\n",
    "colors=['#ffcd94','#eac086','#ffad60','#ffe39f']\n",
    "sns.set_palette(sns.color_palette(colors))\n",
    "\n",
    "fig,ax = plt.subplots(15,3,figsize=(30,100))\n",
    "for index,i in enumerate(bodyfat.columns[0:15]):\n",
    "    sns.histplot(bodyfat[i],ax=ax[index,0])\n",
    "    sns.boxplot(bodyfat[i],ax=ax[index,1])\n",
    "    stats.probplot(bodyfat[i],plot=ax[index,2])\n",
    "\n",
    "#fig.tight_laprobplott()\n",
    "fig.subplots_adjust(top=0.95)\n",
    "plt.suptitle(\"Visualizing Continuous Columns\",fontsize=50)"
   ]
  },
  {
   "cell_type": "code",
   "execution_count": null,
   "id": "1879e951",
   "metadata": {},
   "outputs": [],
   "source": [
    "databf.corr()"
   ]
  },
  {
   "cell_type": "markdown",
   "id": "464b4059-85ab-4d4b-a954-45ce669bd259",
   "metadata": {},
   "source": [
    "### Heatmap \n",
    "- In a correlation heatmap, each variable is represented by a row and a column, and the cells show the correlation between them. The color of each cell represents the strength and direction of the correlation, with darker/lighter colors indicating stronger correlations."
   ]
  },
  {
   "cell_type": "code",
   "execution_count": null,
   "id": "4717dec0-45d6-4cc2-ac8d-faf9757eaaff",
   "metadata": {
    "tags": []
   },
   "outputs": [],
   "source": [
    "plt.style.use('ggplot') # using a plotting style\n",
    "plt.figure(figsize=(10,10))\n",
    "sns.heatmap(databf.corr(),annot=True,linewidth=0.3,fmt=\"0.2f\")"
   ]
  },
  {
   "cell_type": "code",
   "execution_count": null,
   "id": "57266c11",
   "metadata": {},
   "outputs": [],
   "source": [
    "# for correlation matrix remove the non-numeric columns \n",
    "bodyfat = bodyfat.drop(columns=[\"Label\"])"
   ]
  },
  {
   "cell_type": "markdown",
   "id": "95f1e2f8",
   "metadata": {},
   "source": [
    "### Search for high correlations"
   ]
  },
  {
   "cell_type": "code",
   "execution_count": null,
   "id": "5c20eb22",
   "metadata": {},
   "outputs": [],
   "source": [
    "# search for the highest correlations\n",
    "bfcorr = bodyfat.corr()\n",
    "max = 0\n",
    "for i in range(0, len(bfcorr)): # all rows\n",
    "    for j in range(0, len(bfcorr)): # all columns\n",
    "        # if the correlation is greater than 0.8 and not 1\n",
    "        if (bfcorr.iloc[i,j] > 0.8) & (bfcorr.iloc[i,j] != 1):\n",
    "            #print(bfcorr.columns[i], bfcorr.columns[j], bfcorr.iloc[i,j])\n",
    "            if(bfcorr.iloc[i,j] > max):\n",
    "                max = bfcorr.iloc[i,j]\n",
    "                col1 = bfcorr.columns[i]\n",
    "                col2 = bfcorr.columns[j]\n",
    "                \n",
    "print(col1, col2, max)           "
   ]
  },
  {
   "cell_type": "code",
   "execution_count": null,
   "id": "e18f26d2",
   "metadata": {},
   "outputs": [],
   "source": [
    "# calculate the correlation matrix\n",
    "bodyfat.corr()\n",
    "\n",
    "# search for the highest correlations\n",
    "corrmax = bodyfat.corr().unstack().sort_values(ascending=False)\n",
    "print(corrmax[corrmax < 1].drop_duplicates())"
   ]
  },
  {
   "cell_type": "code",
   "execution_count": null,
   "id": "93449589",
   "metadata": {},
   "outputs": [],
   "source": [
    "plt.style.use('ggplot') # using a plotting style\n",
    "plt.figure(figsize=(10,10))\n",
    "sns.heatmap(bodyfat.corr(),annot=True,linewidth=0.3,fmt=\"0.2f\")"
   ]
  }
 ],
 "metadata": {
  "kernelspec": {
   "display_name": "Python 3 (ipykernel)",
   "language": "python",
   "name": "python3"
  },
  "language_info": {
   "codemirror_mode": {
    "name": "ipython",
    "version": 3
   },
   "file_extension": ".py",
   "mimetype": "text/x-python",
   "name": "python",
   "nbconvert_exporter": "python",
   "pygments_lexer": "ipython3",
   "version": "3.12.4"
  }
 },
 "nbformat": 4,
 "nbformat_minor": 5
}
